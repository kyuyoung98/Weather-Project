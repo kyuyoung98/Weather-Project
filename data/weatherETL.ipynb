{
 "cells": [
  {
   "cell_type": "markdown",
   "metadata": {},
   "source": [
    "# 1. OpenWeathermap을 활용해 데이터 추출과정 만들기"
   ]
  },
  {
   "cell_type": "code",
   "execution_count": 27,
   "metadata": {},
   "outputs": [],
   "source": [
    "from config import api_key"
   ]
  },
  {
   "cell_type": "code",
   "execution_count": 29,
   "metadata": {},
   "outputs": [],
   "source": [
    "import requests\n",
    "\n",
    "city = \"Busan\"\n",
    "base_url = \"http://api.openweathermap.org/data/2.5/weather\"\n",
    "\n",
    "params = {\n",
    "    \"q\": city,\n",
    "    \"appid\": api_key,\n",
    "}\n",
    "\n",
    "response = requests.get(base_url, params=params)\n",
    "data = response.json()"
   ]
  },
  {
   "cell_type": "code",
   "execution_count": 30,
   "metadata": {},
   "outputs": [
    {
     "data": {
      "text/plain": [
       "{'coord': {'lon': 129.0403, 'lat': 35.1028},\n",
       " 'weather': [{'id': 801,\n",
       "   'main': 'Clouds',\n",
       "   'description': 'few clouds',\n",
       "   'icon': '02n'}],\n",
       " 'base': 'stations',\n",
       " 'main': {'temp': 297.14,\n",
       "  'feels_like': 297.4,\n",
       "  'temp_min': 297.14,\n",
       "  'temp_max': 297.14,\n",
       "  'pressure': 1014,\n",
       "  'humidity': 69},\n",
       " 'visibility': 10000,\n",
       " 'wind': {'speed': 3.6, 'deg': 30},\n",
       " 'clouds': {'all': 20},\n",
       " 'dt': 1694086405,\n",
       " 'sys': {'type': 1,\n",
       "  'id': 8086,\n",
       "  'country': 'KR',\n",
       "  'sunrise': 1694034023,\n",
       "  'sunset': 1694079857},\n",
       " 'timezone': 32400,\n",
       " 'id': 1838524,\n",
       " 'name': 'Busan',\n",
       " 'cod': 200}"
      ]
     },
     "execution_count": 30,
     "metadata": {},
     "output_type": "execute_result"
    }
   ],
   "source": [
    "data"
   ]
  },
  {
   "cell_type": "code",
   "execution_count": null,
   "metadata": {},
   "outputs": [],
   "source": [
    "# 여기서 날씨 예측에 활용할만한거\n",
    "# temp, humidity, visibility, wind, clouds 정도\n",
    "# "
   ]
  },
  {
   "cell_type": "code",
   "execution_count": null,
   "metadata": {},
   "outputs": [],
   "source": [
    "import requests\n",
    "import json\n",
    "from datetime import datetime\n",
    "import time\n",
    "\n",
    "def fetch_weather_data(api_key, city):\n",
    "    base_url = \"http://api.openweathermap.org/data/2.5/weather\"\n",
    "    params = {\n",
    "        \"q\": city,\n",
    "        \"appid\": api_key,\n",
    "        \"units\": \"metric\",  # 섭씨 온도로 설정\n",
    "    }\n",
    "\n",
    "    response = requests.get(base_url, params=params)\n",
    "\n",
    "    if response.status_code == 200:\n",
    "        data = response.json()\n",
    "        return data\n",
    "    else:\n",
    "        print(\"API 요청 실패\")\n",
    "        return None\n",
    "\n",
    "def main():\n",
    "    city = \"Busan\"\n",
    "\n",
    "    while True:\n",
    "        current_time = datetime.now().strftime(\"%Y-%m-%d %H:%M:%S\")\n",
    "        print(f\"데이터 수집 시간: {current_time}\")\n",
    "\n",
    "        weather_data = fetch_weather_data(api_key, city)\n",
    "\n",
    "        if weather_data:\n",
    "            # 날씨 데이터를 처리하거나 저장하는 작업을 수행하세요.\n",
    "            print(json.dumps(weather_data, indent=4))  # 날씨 데이터 출력\n",
    "\n",
    "        # 24시간 간격으로 데이터를 가져옵니다.\n",
    "        time.sleep(24 * 60 * 60)  # 24시간 대기\n",
    "\n",
    "if __name__ == \"__main__\":\n",
    "    main()"
   ]
  }
 ],
 "metadata": {
  "kernelspec": {
   "display_name": "spotify",
   "language": "python",
   "name": "python3"
  },
  "language_info": {
   "codemirror_mode": {
    "name": "ipython",
    "version": 3
   },
   "file_extension": ".py",
   "mimetype": "text/x-python",
   "name": "python",
   "nbconvert_exporter": "python",
   "pygments_lexer": "ipython3",
   "version": "3.9.17"
  },
  "orig_nbformat": 4
 },
 "nbformat": 4,
 "nbformat_minor": 2
}
