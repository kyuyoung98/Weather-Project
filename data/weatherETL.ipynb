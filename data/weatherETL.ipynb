{
 "cells": [
  {
   "cell_type": "markdown",
   "metadata": {},
   "source": [
    "# 1. OpenWeathermap을 활용해 데이터 추출과정 만들기"
   ]
  },
  {
   "cell_type": "markdown",
   "metadata": {},
   "source": [
    "## 1-1. API로 데이터 가져와보기"
   ]
  },
  {
   "cell_type": "code",
   "execution_count": 13,
   "metadata": {},
   "outputs": [],
   "source": [
    "from config import api_key\n",
    "import requests\n",
    "import pandas as pd\n",
    "import numpy as np\n",
    "import matplotlib.pyplot as plt\n",
    "from datetime import datetime, timedelta"
   ]
  },
  {
   "cell_type": "code",
   "execution_count": 2,
   "metadata": {},
   "outputs": [],
   "source": [
    "city = \"Busan\"\n",
    "base_url = \"http://api.openweathermap.org/data/2.5/weather\"\n",
    "\n",
    "params = {\n",
    "    \"q\": city,\n",
    "    \"appid\": api_key,\n",
    "}\n",
    "\n",
    "response = requests.get(base_url, params=params)\n",
    "data = response.json()"
   ]
  },
  {
   "cell_type": "code",
   "execution_count": 3,
   "metadata": {},
   "outputs": [
    {
     "data": {
      "text/plain": [
       "{'coord': {'lon': 129.0403, 'lat': 35.1028},\n",
       " 'weather': [{'id': 801,\n",
       "   'main': 'Clouds',\n",
       "   'description': 'few clouds',\n",
       "   'icon': '02n'}],\n",
       " 'base': 'stations',\n",
       " 'main': {'temp': 297.14,\n",
       "  'feels_like': 297.4,\n",
       "  'temp_min': 297.14,\n",
       "  'temp_max': 297.14,\n",
       "  'pressure': 1014,\n",
       "  'humidity': 69},\n",
       " 'visibility': 10000,\n",
       " 'wind': {'speed': 3.6, 'deg': 30},\n",
       " 'clouds': {'all': 20},\n",
       " 'dt': 1694087343,\n",
       " 'sys': {'type': 1,\n",
       "  'id': 8086,\n",
       "  'country': 'KR',\n",
       "  'sunrise': 1694034023,\n",
       "  'sunset': 1694079857},\n",
       " 'timezone': 32400,\n",
       " 'id': 1838524,\n",
       " 'name': 'Busan',\n",
       " 'cod': 200}"
      ]
     },
     "execution_count": 3,
     "metadata": {},
     "output_type": "execute_result"
    }
   ],
   "source": [
    "data"
   ]
  },
  {
   "cell_type": "code",
   "execution_count": 15,
   "metadata": {},
   "outputs": [
    {
     "name": "stdout",
     "output_type": "stream",
     "text": [
      "        Lon      Lat  Weather ID Weather Main Weather Description  \\\n",
      "0  129.0403  35.1028         801       Clouds          few clouds   \n",
      "\n",
      "   Visibility (m)  Wind Speed (m/s)  Clouds (%)          Date (Unix)  \\\n",
      "0           10000               3.6          20  2023-09-07 11:49:03   \n",
      "\n",
      "          Timezone (s)       ID City Name  \n",
      "0  2023-09-07 20:49:03  1838524     Busan  \n"
     ]
    }
   ],
   "source": [
    "# Unix 타임 스탬프를 년, 월, 일, 시, 분, 초로 변환\n",
    "timestamp = data['dt']\n",
    "dt = datetime.utcfromtimestamp(timestamp)\n",
    "formatted_datetime = dt.strftime('%Y-%m-%d %H:%M:%S')\n",
    "\n",
    "# 'timezone' 값을 UTC 기준으로 9시간 뒤로 조정\n",
    "timezone_offset_seconds = 9 * 3600  # 9시간을 초 단위로 변환\n",
    "adjusted_datetime = dt + timedelta(seconds=timezone_offset_seconds)\n",
    "formatted_adjusted_datetime = adjusted_datetime.strftime('%Y-%m-%d %H:%M:%S')\n",
    "\n",
    "# 변환된 날짜 및 시간을 데이터에 추가\n",
    "data['formatted_dt'] = formatted_datetime\n",
    "data['formatted_adjusted_dt'] = formatted_adjusted_datetime\n",
    "\n",
    "# 필요한 필드 추출\n",
    "selected_data = {\n",
    "    'Lon': data['coord']['lon'],\n",
    "    'Lat': data['coord']['lat'],\n",
    "    'Weather ID': data['weather'][0]['id'],\n",
    "    'Weather Main': data['weather'][0]['main'],\n",
    "    'Weather Description': data['weather'][0]['description'],\n",
    "    'Visibility (m)': data['visibility'],\n",
    "    'Wind Speed (m/s)': data['wind']['speed'],\n",
    "    'Clouds (%)': data['clouds']['all'],\n",
    "    'Date (Unix)': data['formatted_dt'],\n",
    "    'Timezone (s)': data['formatted_adjusted_dt'],\n",
    "    'ID': data['id'],\n",
    "    'City Name': data['name']\n",
    "}\n",
    "\n",
    "# 데이터프레임 생성\n",
    "df = pd.DataFrame([selected_data])\n",
    "\n",
    "# 데이터프레임 출력\n",
    "print(df)"
   ]
  },
  {
   "cell_type": "code",
   "execution_count": 16,
   "metadata": {},
   "outputs": [
    {
     "data": {
      "text/html": [
       "<div>\n",
       "<style scoped>\n",
       "    .dataframe tbody tr th:only-of-type {\n",
       "        vertical-align: middle;\n",
       "    }\n",
       "\n",
       "    .dataframe tbody tr th {\n",
       "        vertical-align: top;\n",
       "    }\n",
       "\n",
       "    .dataframe thead th {\n",
       "        text-align: right;\n",
       "    }\n",
       "</style>\n",
       "<table border=\"1\" class=\"dataframe\">\n",
       "  <thead>\n",
       "    <tr style=\"text-align: right;\">\n",
       "      <th></th>\n",
       "      <th>Lon</th>\n",
       "      <th>Lat</th>\n",
       "      <th>Weather ID</th>\n",
       "      <th>Weather Main</th>\n",
       "      <th>Weather Description</th>\n",
       "      <th>Visibility (m)</th>\n",
       "      <th>Wind Speed (m/s)</th>\n",
       "      <th>Clouds (%)</th>\n",
       "      <th>Date (Unix)</th>\n",
       "      <th>Timezone (s)</th>\n",
       "      <th>ID</th>\n",
       "      <th>City Name</th>\n",
       "    </tr>\n",
       "  </thead>\n",
       "  <tbody>\n",
       "    <tr>\n",
       "      <th>0</th>\n",
       "      <td>129.0403</td>\n",
       "      <td>35.1028</td>\n",
       "      <td>801</td>\n",
       "      <td>Clouds</td>\n",
       "      <td>few clouds</td>\n",
       "      <td>10000</td>\n",
       "      <td>3.6</td>\n",
       "      <td>20</td>\n",
       "      <td>2023-09-07 11:49:03</td>\n",
       "      <td>2023-09-07 20:49:03</td>\n",
       "      <td>1838524</td>\n",
       "      <td>Busan</td>\n",
       "    </tr>\n",
       "  </tbody>\n",
       "</table>\n",
       "</div>"
      ],
      "text/plain": [
       "        Lon      Lat  Weather ID Weather Main Weather Description  \\\n",
       "0  129.0403  35.1028         801       Clouds          few clouds   \n",
       "\n",
       "   Visibility (m)  Wind Speed (m/s)  Clouds (%)          Date (Unix)  \\\n",
       "0           10000               3.6          20  2023-09-07 11:49:03   \n",
       "\n",
       "          Timezone (s)       ID City Name  \n",
       "0  2023-09-07 20:49:03  1838524     Busan  "
      ]
     },
     "execution_count": 16,
     "metadata": {},
     "output_type": "execute_result"
    }
   ],
   "source": [
    "df"
   ]
  },
  {
   "cell_type": "code",
   "execution_count": null,
   "metadata": {},
   "outputs": [],
   "source": [
    "# 여기서 날씨 예측에 활용할만한거\n",
    "# temp, humidity, visibility, wind, clouds 정도"
   ]
  }
 ],
 "metadata": {
  "kernelspec": {
   "display_name": "spotify",
   "language": "python",
   "name": "python3"
  },
  "language_info": {
   "codemirror_mode": {
    "name": "ipython",
    "version": 3
   },
   "file_extension": ".py",
   "mimetype": "text/x-python",
   "name": "python",
   "nbconvert_exporter": "python",
   "pygments_lexer": "ipython3",
   "version": "3.9.17"
  },
  "orig_nbformat": 4
 },
 "nbformat": 4,
 "nbformat_minor": 2
}
