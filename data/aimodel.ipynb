{
 "cells": [
  {
   "cell_type": "code",
   "execution_count": 2,
   "metadata": {},
   "outputs": [],
   "source": [
    "import pandas as pd\n",
    "import numpy as np\n",
    "import tensorflow as tf\n",
    "from tensorflow import keras"
   ]
  },
  {
   "cell_type": "code",
   "execution_count": 17,
   "metadata": {},
   "outputs": [],
   "source": [
    "df = pd.read_csv(\"./files/korea_weather/20230909_Weather.csv\")"
   ]
  },
  {
   "cell_type": "code",
   "execution_count": 18,
   "metadata": {},
   "outputs": [],
   "source": [
    "col = ['Lon', 'Lat', 'Weather ID', 'Temperature (K)', 'Humidity (%)', 'Visibility (m)', 'Wind Speed (m/s)', 'Clouds (%)']"
   ]
  },
  {
   "cell_type": "code",
   "execution_count": 19,
   "metadata": {},
   "outputs": [],
   "source": [
    "#df.head()"
   ]
  },
  {
   "cell_type": "markdown",
   "metadata": {},
   "source": [
    "- Clear (맑음): 하늘이 맑고 구름이 거의 없습니다.\n",
    "- Clouds (구름): 구름이 일부 또는 많이 끼어 있습니다.\n",
    "- Rain (비): 비가 내립니다.\n",
    "- Drizzle (이슬비): 가벼운 비가 내립니다.\n",
    "- Thunderstorm (천둥번개): 천둥과 번개가 동반되는 폭풍우입니다.\n",
    "- Snow (눈): 눈이 내립니다.\n",
    "- Mist (안개): 안개가 짙게 끼어 있습니다.\n",
    "- Fog (안개): 안개가 낮게 끼어 있습니다.\n",
    "- Haze (연무): 대기 중에 먼지나 연기로 인해 시야가 흐린 상태입니다.\n",
    "- Dust (먼지): 대기 중에 먼지가 떠다닙니다.\n",
    "- Smoke (연기): 대기 중에 연기가 떠다닙니다."
   ]
  },
  {
   "cell_type": "code",
   "execution_count": 20,
   "metadata": {},
   "outputs": [],
   "source": [
    "# 카테고리 인코딩을 위한 날씨 정보\n",
    "weather_category = {\n",
    "    \"Clear\" : 1,\n",
    "    \"Clouds\" : 2,\n",
    "    \"Rain\" : 3,\n",
    "    \"Drizzle\" : 4,\n",
    "    \"Thunderstorm\" : 5,\n",
    "    \"Snow\" : 6,\n",
    "    \"Mist\" : 7,\n",
    "    \"Fog\" : 8,\n",
    "    \"Haze\" : 9,\n",
    "    \"Dust\" : 10,\n",
    "    \"Smoke\" : 11    \n",
    "}"
   ]
  },
  {
   "cell_type": "code",
   "execution_count": 21,
   "metadata": {},
   "outputs": [],
   "source": [
    "# K(켈빈) 온도를 C(섭씨) 온도로 변환\n",
    "df[\"Temperature (K)\"] = df[\"Temperature (K)\"] - 273.15\n",
    "df.rename(columns={'Temperature (K)' : 'Temperature (°C)'}, inplace=True)"
   ]
  },
  {
   "cell_type": "code",
   "execution_count": 25,
   "metadata": {},
   "outputs": [],
   "source": [
    "# 불필요한 칼럼 삭제\n",
    "df.drop(columns = ['City ID', 'City Name', 'Lon', 'Lat', 'Date (Unix)', 'Timezone (s)', 'Weather ID'], inplace=True)"
   ]
  },
  {
   "cell_type": "code",
   "execution_count": 26,
   "metadata": {},
   "outputs": [],
   "source": [
    "# Weather Main을 카테고리 인코딩\n",
    "df['Weather Main'] = df['Weather Main'].map(weather_category)"
   ]
  },
  {
   "cell_type": "code",
   "execution_count": 28,
   "metadata": {},
   "outputs": [
    {
     "data": {
      "text/html": [
       "<div>\n",
       "<style scoped>\n",
       "    .dataframe tbody tr th:only-of-type {\n",
       "        vertical-align: middle;\n",
       "    }\n",
       "\n",
       "    .dataframe tbody tr th {\n",
       "        vertical-align: top;\n",
       "    }\n",
       "\n",
       "    .dataframe thead th {\n",
       "        text-align: right;\n",
       "    }\n",
       "</style>\n",
       "<table border=\"1\" class=\"dataframe\">\n",
       "  <thead>\n",
       "    <tr style=\"text-align: right;\">\n",
       "      <th></th>\n",
       "      <th>Weather Main</th>\n",
       "      <th>Temperature (°C)</th>\n",
       "      <th>Humidity (%)</th>\n",
       "      <th>Visibility (m)</th>\n",
       "      <th>Wind Speed (m/s)</th>\n",
       "      <th>Clouds (%)</th>\n",
       "    </tr>\n",
       "  </thead>\n",
       "  <tbody>\n",
       "    <tr>\n",
       "      <th>0</th>\n",
       "      <td>1</td>\n",
       "      <td>23.08</td>\n",
       "      <td>74</td>\n",
       "      <td>10000</td>\n",
       "      <td>2.44</td>\n",
       "      <td>1</td>\n",
       "    </tr>\n",
       "    <tr>\n",
       "      <th>1</th>\n",
       "      <td>1</td>\n",
       "      <td>21.02</td>\n",
       "      <td>80</td>\n",
       "      <td>10000</td>\n",
       "      <td>1.34</td>\n",
       "      <td>0</td>\n",
       "    </tr>\n",
       "    <tr>\n",
       "      <th>2</th>\n",
       "      <td>1</td>\n",
       "      <td>23.09</td>\n",
       "      <td>68</td>\n",
       "      <td>10000</td>\n",
       "      <td>1.63</td>\n",
       "      <td>0</td>\n",
       "    </tr>\n",
       "    <tr>\n",
       "      <th>3</th>\n",
       "      <td>1</td>\n",
       "      <td>20.61</td>\n",
       "      <td>80</td>\n",
       "      <td>10000</td>\n",
       "      <td>1.24</td>\n",
       "      <td>0</td>\n",
       "    </tr>\n",
       "    <tr>\n",
       "      <th>4</th>\n",
       "      <td>1</td>\n",
       "      <td>17.06</td>\n",
       "      <td>86</td>\n",
       "      <td>10000</td>\n",
       "      <td>1.17</td>\n",
       "      <td>2</td>\n",
       "    </tr>\n",
       "  </tbody>\n",
       "</table>\n",
       "</div>"
      ],
      "text/plain": [
       "   Weather Main  Temperature (°C)  Humidity (%)  Visibility (m)  \\\n",
       "0             1             23.08            74           10000   \n",
       "1             1             21.02            80           10000   \n",
       "2             1             23.09            68           10000   \n",
       "3             1             20.61            80           10000   \n",
       "4             1             17.06            86           10000   \n",
       "\n",
       "   Wind Speed (m/s)  Clouds (%)  \n",
       "0              2.44           1  \n",
       "1              1.34           0  \n",
       "2              1.63           0  \n",
       "3              1.24           0  \n",
       "4              1.17           2  "
      ]
     },
     "execution_count": 28,
     "metadata": {},
     "output_type": "execute_result"
    }
   ],
   "source": [
    "df.head()"
   ]
  },
  {
   "cell_type": "code",
   "execution_count": null,
   "metadata": {},
   "outputs": [],
   "source": []
  }
 ],
 "metadata": {
  "kernelspec": {
   "display_name": "spotify",
   "language": "python",
   "name": "python3"
  },
  "language_info": {
   "codemirror_mode": {
    "name": "ipython",
    "version": 3
   },
   "file_extension": ".py",
   "mimetype": "text/x-python",
   "name": "python",
   "nbconvert_exporter": "python",
   "pygments_lexer": "ipython3",
   "version": "3.9.17"
  },
  "orig_nbformat": 4
 },
 "nbformat": 4,
 "nbformat_minor": 2
}
